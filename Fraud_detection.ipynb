{
 "cells": [
  {
   "cell_type": "markdown",
   "metadata": {},
   "source": [
    "# Fraud Prediction with Skewed Dataset"
    "## Goal:"
    "##### We aim to explore the options when we have highly skewed dataset to prepare the model and best performance meteric to be used for evaluation and prepare a model comparison report."
   ]
  },
  {
   "cell_type": "markdown",
   "metadata": {},
   "source": [
    "##### 1. Here will see how to deal with imbalanced dataset\n",
    "##### 2. What performance metric we should choose\n",
    "##### 3. How to deal with highly skewed dataset\n",
    "##### 4. Perform Precision-Recall trade off"
   ]
  },
  {
   "cell_type": "code",
   "execution_count": 1,
   "metadata": {},
   "outputs": [],
   "source": [
    "import numpy as np\n",
    "import pandas as pd\n",
    "import matplotlib.pyplot as plt\n",
    "\n",
    "%matplotlib inline"
   ]
  },
  {
   "cell_type": "code",
   "execution_count": 2,
   "metadata": {},
   "outputs": [],
   "source": [
    "data = pd.read_csv(r\"G:\\xgboost-smote-detect-fraud-master\\data\\creditcard.csv\")"
   ]
  },
  {
   "cell_type": "code",
   "execution_count": 3,
   "metadata": {},
   "outputs": [],
   "source": [
    "pd.set_option('display.max_columns',None)\n",
    "pd.set_option('display.max_rows',100)"
   ]
  },
  {
   "cell_type": "code",
   "execution_count": 4,
   "metadata": {},
   "outputs": [
    {
     "data": {
      "text/html": [
       "<div>\n",
       "<style scoped>\n",
       "    .dataframe tbody tr th:only-of-type {\n",
       "        vertical-align: middle;\n",
       "    }\n",
       "\n",
       "    .dataframe tbody tr th {\n",
       "        vertical-align: top;\n",
       "    }\n",
       "\n",
       "    .dataframe thead th {\n",
       "        text-align: right;\n",
       "    }\n",
       "</style>\n",
       "<table border=\"1\" class=\"dataframe\">\n",
       "  <thead>\n",
       "    <tr style=\"text-align: right;\">\n",
       "      <th></th>\n",
       "      <th>Time</th>\n",
       "      <th>V1</th>\n",
       "      <th>V2</th>\n",
       "      <th>V3</th>\n",
       "      <th>V4</th>\n",
       "      <th>V5</th>\n",
       "      <th>V6</th>\n",
       "      <th>V7</th>\n",
       "      <th>V8</th>\n",
       "      <th>V9</th>\n",
       "      <th>V10</th>\n",
       "      <th>V11</th>\n",
       "      <th>V12</th>\n",
       "      <th>V13</th>\n",
       "      <th>V14</th>\n",
       "      <th>V15</th>\n",
       "      <th>V16</th>\n",
       "      <th>V17</th>\n",
       "      <th>V18</th>\n",
       "      <th>V19</th>\n",
       "      <th>V20</th>\n",
       "      <th>V21</th>\n",
       "      <th>V22</th>\n",
       "      <th>V23</th>\n",
       "      <th>V24</th>\n",
       "      <th>V25</th>\n",
       "      <th>V26</th>\n",
       "      <th>V27</th>\n",
       "      <th>V28</th>\n",
       "      <th>Amount</th>\n",
       "      <th>Class</th>\n",
       "    </tr>\n",
       "  </thead>\n",
       "  <tbody>\n",
       "    <tr>\n",
       "      <th>0</th>\n",
       "      <td>10</td>\n",
       "      <td>0.385</td>\n",
       "      <td>0.616</td>\n",
       "      <td>-0.874</td>\n",
       "      <td>-0.094</td>\n",
       "      <td>2.925</td>\n",
       "      <td>3.317</td>\n",
       "      <td>0.470</td>\n",
       "      <td>0.538</td>\n",
       "      <td>-0.559</td>\n",
       "      <td>0.310</td>\n",
       "      <td>-0.259</td>\n",
       "      <td>-0.326</td>\n",
       "      <td>-0.090</td>\n",
       "      <td>0.363</td>\n",
       "      <td>0.929</td>\n",
       "      <td>-0.129</td>\n",
       "      <td>-0.810</td>\n",
       "      <td>0.360</td>\n",
       "      <td>0.708</td>\n",
       "      <td>0.126</td>\n",
       "      <td>0.050</td>\n",
       "      <td>0.238</td>\n",
       "      <td>0.009</td>\n",
       "      <td>0.997</td>\n",
       "      <td>-0.767</td>\n",
       "      <td>-0.492</td>\n",
       "      <td>0.042</td>\n",
       "      <td>-0.054</td>\n",
       "      <td>9.99</td>\n",
       "      <td>0</td>\n",
       "    </tr>\n",
       "    <tr>\n",
       "      <th>1</th>\n",
       "      <td>12</td>\n",
       "      <td>-0.752</td>\n",
       "      <td>0.345</td>\n",
       "      <td>2.057</td>\n",
       "      <td>-1.469</td>\n",
       "      <td>-1.158</td>\n",
       "      <td>-0.078</td>\n",
       "      <td>-0.609</td>\n",
       "      <td>0.004</td>\n",
       "      <td>-0.436</td>\n",
       "      <td>0.748</td>\n",
       "      <td>-0.794</td>\n",
       "      <td>-0.770</td>\n",
       "      <td>1.048</td>\n",
       "      <td>-1.067</td>\n",
       "      <td>1.107</td>\n",
       "      <td>1.660</td>\n",
       "      <td>-0.279</td>\n",
       "      <td>-0.420</td>\n",
       "      <td>0.433</td>\n",
       "      <td>0.263</td>\n",
       "      <td>0.500</td>\n",
       "      <td>1.354</td>\n",
       "      <td>-0.257</td>\n",
       "      <td>-0.065</td>\n",
       "      <td>-0.039</td>\n",
       "      <td>-0.087</td>\n",
       "      <td>-0.181</td>\n",
       "      <td>0.129</td>\n",
       "      <td>15.99</td>\n",
       "      <td>0</td>\n",
       "    </tr>\n",
       "    <tr>\n",
       "      <th>2</th>\n",
       "      <td>25</td>\n",
       "      <td>1.114</td>\n",
       "      <td>0.086</td>\n",
       "      <td>0.494</td>\n",
       "      <td>1.336</td>\n",
       "      <td>-0.300</td>\n",
       "      <td>-0.011</td>\n",
       "      <td>-0.119</td>\n",
       "      <td>0.189</td>\n",
       "      <td>0.206</td>\n",
       "      <td>0.082</td>\n",
       "      <td>1.134</td>\n",
       "      <td>0.627</td>\n",
       "      <td>-1.493</td>\n",
       "      <td>0.521</td>\n",
       "      <td>-0.675</td>\n",
       "      <td>-0.529</td>\n",
       "      <td>0.158</td>\n",
       "      <td>-0.399</td>\n",
       "      <td>-0.146</td>\n",
       "      <td>-0.274</td>\n",
       "      <td>-0.053</td>\n",
       "      <td>-0.005</td>\n",
       "      <td>-0.031</td>\n",
       "      <td>0.198</td>\n",
       "      <td>0.565</td>\n",
       "      <td>-0.338</td>\n",
       "      <td>0.029</td>\n",
       "      <td>0.004</td>\n",
       "      <td>4.45</td>\n",
       "      <td>0</td>\n",
       "    </tr>\n",
       "  </tbody>\n",
       "</table>\n",
       "</div>"
      ],
      "text/plain": [
       "   Time     V1     V2     V3     V4     V5     V6     V7     V8     V9    V10  \\\n",
       "0    10  0.385  0.616 -0.874 -0.094  2.925  3.317  0.470  0.538 -0.559  0.310   \n",
       "1    12 -0.752  0.345  2.057 -1.469 -1.158 -0.078 -0.609  0.004 -0.436  0.748   \n",
       "2    25  1.114  0.086  0.494  1.336 -0.300 -0.011 -0.119  0.189  0.206  0.082   \n",
       "\n",
       "     V11    V12    V13    V14    V15    V16    V17    V18    V19    V20  \\\n",
       "0 -0.259 -0.326 -0.090  0.363  0.929 -0.129 -0.810  0.360  0.708  0.126   \n",
       "1 -0.794 -0.770  1.048 -1.067  1.107  1.660 -0.279 -0.420  0.433  0.263   \n",
       "2  1.134  0.627 -1.493  0.521 -0.675 -0.529  0.158 -0.399 -0.146 -0.274   \n",
       "\n",
       "     V21    V22    V23    V24    V25    V26    V27    V28  Amount  Class  \n",
       "0  0.050  0.238  0.009  0.997 -0.767 -0.492  0.042 -0.054    9.99      0  \n",
       "1  0.500  1.354 -0.257 -0.065 -0.039 -0.087 -0.181  0.129   15.99      0  \n",
       "2 -0.053 -0.005 -0.031  0.198  0.565 -0.338  0.029  0.004    4.45      0  "
      ]
     },
     "execution_count": 4,
     "metadata": {},
     "output_type": "execute_result"
    }
   ],
   "source": [
    "data.head(3)"
   ]
  },
  {
   "cell_type": "code",
   "execution_count": 5,
   "metadata": {},
   "outputs": [
    {
     "name": "stdout",
     "output_type": "stream",
     "text": [
      "<class 'pandas.core.frame.DataFrame'>\n",
      "RangeIndex: 56874 entries, 0 to 56873\n",
      "Data columns (total 31 columns):\n",
      "Time      56874 non-null int64\n",
      "V1        56874 non-null float64\n",
      "V2        56874 non-null float64\n",
      "V3        56874 non-null float64\n",
      "V4        56874 non-null float64\n",
      "V5        56874 non-null float64\n",
      "V6        56874 non-null float64\n",
      "V7        56874 non-null float64\n",
      "V8        56874 non-null float64\n",
      "V9        56874 non-null float64\n",
      "V10       56874 non-null float64\n",
      "V11       56874 non-null float64\n",
      "V12       56874 non-null float64\n",
      "V13       56874 non-null float64\n",
      "V14       56874 non-null float64\n",
      "V15       56874 non-null float64\n",
      "V16       56874 non-null float64\n",
      "V17       56874 non-null float64\n",
      "V18       56874 non-null float64\n",
      "V19       56874 non-null float64\n",
      "V20       56874 non-null float64\n",
      "V21       56874 non-null float64\n",
      "V22       56874 non-null float64\n",
      "V23       56874 non-null float64\n",
      "V24       56874 non-null float64\n",
      "V25       56874 non-null float64\n",
      "V26       56874 non-null float64\n",
      "V27       56874 non-null float64\n",
      "V28       56874 non-null float64\n",
      "Amount    56874 non-null float64\n",
      "Class     56874 non-null int64\n",
      "dtypes: float64(29), int64(2)\n",
      "memory usage: 13.5 MB\n"
     ]
    }
   ],
   "source": [
    "data.info()"
   ]
  },
  {
   "cell_type": "code",
   "execution_count": 6,
   "metadata": {},
   "outputs": [
    {
     "data": {
      "text/html": [
       "<div>\n",
       "<style scoped>\n",
       "    .dataframe tbody tr th:only-of-type {\n",
       "        vertical-align: middle;\n",
       "    }\n",
       "\n",
       "    .dataframe tbody tr th {\n",
       "        vertical-align: top;\n",
       "    }\n",
       "\n",
       "    .dataframe thead th {\n",
       "        text-align: right;\n",
       "    }\n",
       "</style>\n",
       "<table border=\"1\" class=\"dataframe\">\n",
       "  <thead>\n",
       "    <tr style=\"text-align: right;\">\n",
       "      <th></th>\n",
       "      <th>Time</th>\n",
       "      <th>V1</th>\n",
       "      <th>V2</th>\n",
       "      <th>V3</th>\n",
       "      <th>V4</th>\n",
       "      <th>V5</th>\n",
       "      <th>V6</th>\n",
       "      <th>V7</th>\n",
       "      <th>V8</th>\n",
       "      <th>V9</th>\n",
       "      <th>V10</th>\n",
       "      <th>V11</th>\n",
       "      <th>V12</th>\n",
       "      <th>V13</th>\n",
       "      <th>V14</th>\n",
       "      <th>V15</th>\n",
       "      <th>V16</th>\n",
       "      <th>V17</th>\n",
       "      <th>V18</th>\n",
       "      <th>V19</th>\n",
       "      <th>V20</th>\n",
       "      <th>V21</th>\n",
       "      <th>V22</th>\n",
       "      <th>V23</th>\n",
       "      <th>V24</th>\n",
       "      <th>V25</th>\n",
       "      <th>V26</th>\n",
       "      <th>V27</th>\n",
       "      <th>V28</th>\n",
       "      <th>Amount</th>\n",
       "      <th>Class</th>\n",
       "    </tr>\n",
       "  </thead>\n",
       "  <tbody>\n",
       "    <tr>\n",
       "      <th>count</th>\n",
       "      <td>56874.000000</td>\n",
       "      <td>56874.000000</td>\n",
       "      <td>56874.000000</td>\n",
       "      <td>56874.000000</td>\n",
       "      <td>56874.000000</td>\n",
       "      <td>56874.000000</td>\n",
       "      <td>56874.000000</td>\n",
       "      <td>56874.000000</td>\n",
       "      <td>56874.000000</td>\n",
       "      <td>56874.000000</td>\n",
       "      <td>56874.000000</td>\n",
       "      <td>56874.000000</td>\n",
       "      <td>56874.000000</td>\n",
       "      <td>56874.000000</td>\n",
       "      <td>56874.000000</td>\n",
       "      <td>56874.000000</td>\n",
       "      <td>56874.000000</td>\n",
       "      <td>56874.000000</td>\n",
       "      <td>56874.000000</td>\n",
       "      <td>56874.000000</td>\n",
       "      <td>56874.000000</td>\n",
       "      <td>56874.000000</td>\n",
       "      <td>56874.000000</td>\n",
       "      <td>56874.000000</td>\n",
       "      <td>56874.000000</td>\n",
       "      <td>56874.000000</td>\n",
       "      <td>56874.000000</td>\n",
       "      <td>56874.000000</td>\n",
       "      <td>56874.000000</td>\n",
       "      <td>56874.000000</td>\n",
       "      <td>56874.000000</td>\n",
       "    </tr>\n",
       "    <tr>\n",
       "      <th>mean</th>\n",
       "      <td>94995.469934</td>\n",
       "      <td>0.010646</td>\n",
       "      <td>0.004147</td>\n",
       "      <td>-0.003954</td>\n",
       "      <td>0.002830</td>\n",
       "      <td>-0.001663</td>\n",
       "      <td>0.007861</td>\n",
       "      <td>-0.004580</td>\n",
       "      <td>0.003089</td>\n",
       "      <td>0.000165</td>\n",
       "      <td>0.004662</td>\n",
       "      <td>0.001274</td>\n",
       "      <td>0.002876</td>\n",
       "      <td>0.000866</td>\n",
       "      <td>-0.008212</td>\n",
       "      <td>-0.004193</td>\n",
       "      <td>-0.002882</td>\n",
       "      <td>-0.001685</td>\n",
       "      <td>0.001804</td>\n",
       "      <td>-0.001983</td>\n",
       "      <td>0.001754</td>\n",
       "      <td>0.000675</td>\n",
       "      <td>-0.000240</td>\n",
       "      <td>-0.002827</td>\n",
       "      <td>-0.000386</td>\n",
       "      <td>-0.000068</td>\n",
       "      <td>-0.000414</td>\n",
       "      <td>0.002503</td>\n",
       "      <td>0.001734</td>\n",
       "      <td>88.264681</td>\n",
       "      <td>0.001793</td>\n",
       "    </tr>\n",
       "    <tr>\n",
       "      <th>std</th>\n",
       "      <td>47535.817923</td>\n",
       "      <td>1.933044</td>\n",
       "      <td>1.604704</td>\n",
       "      <td>1.514694</td>\n",
       "      <td>1.412792</td>\n",
       "      <td>1.356933</td>\n",
       "      <td>1.329296</td>\n",
       "      <td>1.211257</td>\n",
       "      <td>1.193217</td>\n",
       "      <td>1.108262</td>\n",
       "      <td>1.113118</td>\n",
       "      <td>1.024518</td>\n",
       "      <td>1.006923</td>\n",
       "      <td>0.990345</td>\n",
       "      <td>0.973298</td>\n",
       "      <td>0.916258</td>\n",
       "      <td>0.878507</td>\n",
       "      <td>0.860612</td>\n",
       "      <td>0.844574</td>\n",
       "      <td>0.811418</td>\n",
       "      <td>0.734865</td>\n",
       "      <td>0.725244</td>\n",
       "      <td>0.720987</td>\n",
       "      <td>0.603752</td>\n",
       "      <td>0.603345</td>\n",
       "      <td>0.522217</td>\n",
       "      <td>0.481846</td>\n",
       "      <td>0.399660</td>\n",
       "      <td>0.311913</td>\n",
       "      <td>233.922284</td>\n",
       "      <td>0.042311</td>\n",
       "    </tr>\n",
       "    <tr>\n",
       "      <th>min</th>\n",
       "      <td>10.000000</td>\n",
       "      <td>-41.929000</td>\n",
       "      <td>-47.430000</td>\n",
       "      <td>-30.177000</td>\n",
       "      <td>-5.683000</td>\n",
       "      <td>-22.065000</td>\n",
       "      <td>-23.497000</td>\n",
       "      <td>-43.557000</td>\n",
       "      <td>-50.943000</td>\n",
       "      <td>-13.320000</td>\n",
       "      <td>-24.588000</td>\n",
       "      <td>-4.797000</td>\n",
       "      <td>-17.229000</td>\n",
       "      <td>-4.009000</td>\n",
       "      <td>-18.494000</td>\n",
       "      <td>-4.199000</td>\n",
       "      <td>-12.449000</td>\n",
       "      <td>-24.019000</td>\n",
       "      <td>-9.335000</td>\n",
       "      <td>-3.907000</td>\n",
       "      <td>-20.522000</td>\n",
       "      <td>-22.798000</td>\n",
       "      <td>-8.887000</td>\n",
       "      <td>-21.304000</td>\n",
       "      <td>-2.823000</td>\n",
       "      <td>-5.785000</td>\n",
       "      <td>-2.069000</td>\n",
       "      <td>-22.566000</td>\n",
       "      <td>-11.711000</td>\n",
       "      <td>0.000000</td>\n",
       "      <td>0.000000</td>\n",
       "    </tr>\n",
       "    <tr>\n",
       "      <th>25%</th>\n",
       "      <td>54380.250000</td>\n",
       "      <td>-0.915000</td>\n",
       "      <td>-0.606000</td>\n",
       "      <td>-0.893000</td>\n",
       "      <td>-0.846000</td>\n",
       "      <td>-0.705000</td>\n",
       "      <td>-0.767000</td>\n",
       "      <td>-0.560000</td>\n",
       "      <td>-0.209000</td>\n",
       "      <td>-0.648000</td>\n",
       "      <td>-0.531000</td>\n",
       "      <td>-0.762000</td>\n",
       "      <td>-0.407000</td>\n",
       "      <td>-0.645000</td>\n",
       "      <td>-0.430000</td>\n",
       "      <td>-0.587750</td>\n",
       "      <td>-0.472000</td>\n",
       "      <td>-0.485000</td>\n",
       "      <td>-0.499000</td>\n",
       "      <td>-0.455000</td>\n",
       "      <td>-0.212000</td>\n",
       "      <td>-0.229000</td>\n",
       "      <td>-0.542000</td>\n",
       "      <td>-0.161000</td>\n",
       "      <td>-0.352000</td>\n",
       "      <td>-0.316000</td>\n",
       "      <td>-0.327000</td>\n",
       "      <td>-0.070000</td>\n",
       "      <td>-0.053000</td>\n",
       "      <td>5.740000</td>\n",
       "      <td>0.000000</td>\n",
       "    </tr>\n",
       "    <tr>\n",
       "      <th>50%</th>\n",
       "      <td>84664.500000</td>\n",
       "      <td>0.027000</td>\n",
       "      <td>0.060000</td>\n",
       "      <td>0.181000</td>\n",
       "      <td>-0.023000</td>\n",
       "      <td>-0.061000</td>\n",
       "      <td>-0.269000</td>\n",
       "      <td>0.036500</td>\n",
       "      <td>0.023000</td>\n",
       "      <td>-0.052000</td>\n",
       "      <td>-0.091000</td>\n",
       "      <td>-0.035000</td>\n",
       "      <td>0.146000</td>\n",
       "      <td>-0.011000</td>\n",
       "      <td>0.048000</td>\n",
       "      <td>0.046000</td>\n",
       "      <td>0.063000</td>\n",
       "      <td>-0.066000</td>\n",
       "      <td>-0.005000</td>\n",
       "      <td>0.005000</td>\n",
       "      <td>-0.062000</td>\n",
       "      <td>-0.029000</td>\n",
       "      <td>0.006000</td>\n",
       "      <td>-0.011000</td>\n",
       "      <td>0.040000</td>\n",
       "      <td>0.017000</td>\n",
       "      <td>-0.055000</td>\n",
       "      <td>0.002000</td>\n",
       "      <td>0.011000</td>\n",
       "      <td>22.205000</td>\n",
       "      <td>0.000000</td>\n",
       "    </tr>\n",
       "    <tr>\n",
       "      <th>75%</th>\n",
       "      <td>139664.500000</td>\n",
       "      <td>1.320000</td>\n",
       "      <td>0.805000</td>\n",
       "      <td>1.021000</td>\n",
       "      <td>0.748000</td>\n",
       "      <td>0.607000</td>\n",
       "      <td>0.407000</td>\n",
       "      <td>0.564000</td>\n",
       "      <td>0.332000</td>\n",
       "      <td>0.596000</td>\n",
       "      <td>0.455000</td>\n",
       "      <td>0.740000</td>\n",
       "      <td>0.623000</td>\n",
       "      <td>0.662000</td>\n",
       "      <td>0.492000</td>\n",
       "      <td>0.640000</td>\n",
       "      <td>0.523000</td>\n",
       "      <td>0.398000</td>\n",
       "      <td>0.506000</td>\n",
       "      <td>0.456000</td>\n",
       "      <td>0.132000</td>\n",
       "      <td>0.184000</td>\n",
       "      <td>0.525000</td>\n",
       "      <td>0.149000</td>\n",
       "      <td>0.439000</td>\n",
       "      <td>0.350000</td>\n",
       "      <td>0.239000</td>\n",
       "      <td>0.092000</td>\n",
       "      <td>0.079000</td>\n",
       "      <td>78.600000</td>\n",
       "      <td>0.000000</td>\n",
       "    </tr>\n",
       "    <tr>\n",
       "      <th>max</th>\n",
       "      <td>172782.000000</td>\n",
       "      <td>2.455000</td>\n",
       "      <td>22.058000</td>\n",
       "      <td>9.383000</td>\n",
       "      <td>11.865000</td>\n",
       "      <td>34.099000</td>\n",
       "      <td>16.356000</td>\n",
       "      <td>24.665000</td>\n",
       "      <td>18.749000</td>\n",
       "      <td>15.595000</td>\n",
       "      <td>23.745000</td>\n",
       "      <td>11.669000</td>\n",
       "      <td>4.300000</td>\n",
       "      <td>3.789000</td>\n",
       "      <td>7.518000</td>\n",
       "      <td>5.720000</td>\n",
       "      <td>6.443000</td>\n",
       "      <td>9.207000</td>\n",
       "      <td>4.093000</td>\n",
       "      <td>4.555000</td>\n",
       "      <td>15.673000</td>\n",
       "      <td>27.203000</td>\n",
       "      <td>8.316000</td>\n",
       "      <td>18.364000</td>\n",
       "      <td>4.016000</td>\n",
       "      <td>5.474000</td>\n",
       "      <td>3.463000</td>\n",
       "      <td>8.254000</td>\n",
       "      <td>16.130000</td>\n",
       "      <td>7862.390000</td>\n",
       "      <td>1.000000</td>\n",
       "    </tr>\n",
       "  </tbody>\n",
       "</table>\n",
       "</div>"
      ],
      "text/plain": [
       "                Time            V1            V2            V3            V4  \\\n",
       "count   56874.000000  56874.000000  56874.000000  56874.000000  56874.000000   \n",
       "mean    94995.469934      0.010646      0.004147     -0.003954      0.002830   \n",
       "std     47535.817923      1.933044      1.604704      1.514694      1.412792   \n",
       "min        10.000000    -41.929000    -47.430000    -30.177000     -5.683000   \n",
       "25%     54380.250000     -0.915000     -0.606000     -0.893000     -0.846000   \n",
       "50%     84664.500000      0.027000      0.060000      0.181000     -0.023000   \n",
       "75%    139664.500000      1.320000      0.805000      1.021000      0.748000   \n",
       "max    172782.000000      2.455000     22.058000      9.383000     11.865000   \n",
       "\n",
       "                 V5            V6            V7            V8            V9  \\\n",
       "count  56874.000000  56874.000000  56874.000000  56874.000000  56874.000000   \n",
       "mean      -0.001663      0.007861     -0.004580      0.003089      0.000165   \n",
       "std        1.356933      1.329296      1.211257      1.193217      1.108262   \n",
       "min      -22.065000    -23.497000    -43.557000    -50.943000    -13.320000   \n",
       "25%       -0.705000     -0.767000     -0.560000     -0.209000     -0.648000   \n",
       "50%       -0.061000     -0.269000      0.036500      0.023000     -0.052000   \n",
       "75%        0.607000      0.407000      0.564000      0.332000      0.596000   \n",
       "max       34.099000     16.356000     24.665000     18.749000     15.595000   \n",
       "\n",
       "                V10           V11           V12           V13           V14  \\\n",
       "count  56874.000000  56874.000000  56874.000000  56874.000000  56874.000000   \n",
       "mean       0.004662      0.001274      0.002876      0.000866     -0.008212   \n",
       "std        1.113118      1.024518      1.006923      0.990345      0.973298   \n",
       "min      -24.588000     -4.797000    -17.229000     -4.009000    -18.494000   \n",
       "25%       -0.531000     -0.762000     -0.407000     -0.645000     -0.430000   \n",
       "50%       -0.091000     -0.035000      0.146000     -0.011000      0.048000   \n",
       "75%        0.455000      0.740000      0.623000      0.662000      0.492000   \n",
       "max       23.745000     11.669000      4.300000      3.789000      7.518000   \n",
       "\n",
       "                V15           V16           V17           V18           V19  \\\n",
       "count  56874.000000  56874.000000  56874.000000  56874.000000  56874.000000   \n",
       "mean      -0.004193     -0.002882     -0.001685      0.001804     -0.001983   \n",
       "std        0.916258      0.878507      0.860612      0.844574      0.811418   \n",
       "min       -4.199000    -12.449000    -24.019000     -9.335000     -3.907000   \n",
       "25%       -0.587750     -0.472000     -0.485000     -0.499000     -0.455000   \n",
       "50%        0.046000      0.063000     -0.066000     -0.005000      0.005000   \n",
       "75%        0.640000      0.523000      0.398000      0.506000      0.456000   \n",
       "max        5.720000      6.443000      9.207000      4.093000      4.555000   \n",
       "\n",
       "                V20           V21           V22           V23           V24  \\\n",
       "count  56874.000000  56874.000000  56874.000000  56874.000000  56874.000000   \n",
       "mean       0.001754      0.000675     -0.000240     -0.002827     -0.000386   \n",
       "std        0.734865      0.725244      0.720987      0.603752      0.603345   \n",
       "min      -20.522000    -22.798000     -8.887000    -21.304000     -2.823000   \n",
       "25%       -0.212000     -0.229000     -0.542000     -0.161000     -0.352000   \n",
       "50%       -0.062000     -0.029000      0.006000     -0.011000      0.040000   \n",
       "75%        0.132000      0.184000      0.525000      0.149000      0.439000   \n",
       "max       15.673000     27.203000      8.316000     18.364000      4.016000   \n",
       "\n",
       "                V25           V26           V27           V28        Amount  \\\n",
       "count  56874.000000  56874.000000  56874.000000  56874.000000  56874.000000   \n",
       "mean      -0.000068     -0.000414      0.002503      0.001734     88.264681   \n",
       "std        0.522217      0.481846      0.399660      0.311913    233.922284   \n",
       "min       -5.785000     -2.069000    -22.566000    -11.711000      0.000000   \n",
       "25%       -0.316000     -0.327000     -0.070000     -0.053000      5.740000   \n",
       "50%        0.017000     -0.055000      0.002000      0.011000     22.205000   \n",
       "75%        0.350000      0.239000      0.092000      0.079000     78.600000   \n",
       "max        5.474000      3.463000      8.254000     16.130000   7862.390000   \n",
       "\n",
       "              Class  \n",
       "count  56874.000000  \n",
       "mean       0.001793  \n",
       "std        0.042311  \n",
       "min        0.000000  \n",
       "25%        0.000000  \n",
       "50%        0.000000  \n",
       "75%        0.000000  \n",
       "max        1.000000  "
      ]
     },
     "execution_count": 6,
     "metadata": {},
     "output_type": "execute_result"
    }
   ],
   "source": [
    "data.describe()"
   ]
  },
  {
   "cell_type": "code",
   "execution_count": 7,
   "metadata": {},
   "outputs": [
    {
     "data": {
      "text/plain": [
       "0    56772\n",
       "1      102\n",
       "Name: Class, dtype: int64"
      ]
     },
     "execution_count": 7,
     "metadata": {},
     "output_type": "execute_result"
    }
   ],
   "source": [
    "data.Class.value_counts()"
   ]
  },
  {
   "cell_type": "code",
   "execution_count": 8,
   "metadata": {},
   "outputs": [
    {
     "data": {
      "image/png": "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\n",
      "text/plain": [
       "<Figure size 1440x1296 with 36 Axes>"
      ]
     },
     "metadata": {
      "needs_background": "light"
     },
     "output_type": "display_data"
    }
   ],
   "source": [
    "#plt.figure(figsize= (20,18))\n",
    "data.hist(figsize= (20,18))\n",
    "plt.show()"
   ]
  },
  {
   "cell_type": "code",
   "execution_count": 9,
   "metadata": {},
   "outputs": [],
   "source": [
    "X = data.iloc[:,:30]\n",
    "Y = data.iloc[:,-1]"
   ]
  },
  {
   "cell_type": "code",
   "execution_count": 10,
   "metadata": {},
   "outputs": [],
   "source": [
    "from sklearn.model_selection import train_test_split\n",
    "x_train,x_test,y_train,y_test = train_test_split(X,Y,test_size= 0.3 , random_state= 42,stratify= Y,shuffle = True)"
   ]
  },
  {
   "cell_type": "code",
   "execution_count": 11,
   "metadata": {},
   "outputs": [
    {
     "data": {
      "text/plain": [
       "0    39740\n",
       "1       71\n",
       "Name: Class, dtype: int64"
      ]
     },
     "execution_count": 11,
     "metadata": {},
     "output_type": "execute_result"
    }
   ],
   "source": [
    "y_train.value_counts()"
   ]
  },
  {
   "cell_type": "code",
   "execution_count": 12,
   "metadata": {},
   "outputs": [
    {
     "data": {
      "text/plain": [
       "0    17032\n",
       "1       31\n",
       "Name: Class, dtype: int64"
      ]
     },
     "execution_count": 12,
     "metadata": {},
     "output_type": "execute_result"
    }
   ],
   "source": [
    "y_test.value_counts()"
   ]
  },
  {
   "cell_type": "code",
   "execution_count": 13,
   "metadata": {},
   "outputs": [],
   "source": [
    "from sklearn.linear_model import SGDClassifier\n",
    "from sklearn.ensemble import RandomForestClassifier\n",
    "from xgboost import XGBClassifier\n",
    "from sklearn.naive_bayes import BernoulliNB\n",
    "from sklearn.ensemble import AdaBoostClassifier\n",
    "from sklearn.ensemble import ExtraTreesClassifier\n",
    "from sklearn.ensemble import GradientBoostingClassifier\n",
    "from sklearn.ensemble import BaggingClassifier\n",
    "from sklearn.neural_network import MLPClassifier\n",
    "from sklearn.metrics import accuracy_score,f1_score,precision_score,precision_recall_curve,recall_score,roc_auc_score,plot_precision_recall_curve,confusion_matrix"
   ]
  },
  {
   "cell_type": "code",
   "execution_count": 14,
   "metadata": {},
   "outputs": [],
   "source": [
    "def Model_comparision_report(x_train,x_test,y_train,y_test):\n",
    "    algorithms = []\n",
    "\n",
    "    algorithms.append((\"Stochastic Gradient Descent \",SGDClassifier()))\n",
    "    algorithms.append((\"Random Forest \", RandomForestClassifier()))\n",
    "    algorithms.append((\"Xtreme Gradient Boost \", XGBClassifier()))\n",
    "    algorithms.append((\"Bernoulli Naive Bayes \", BernoulliNB()))\n",
    "    algorithms.append((\"AdaBoost \", AdaBoostClassifier()))\n",
    "    algorithms.append((\"Extra Tress Classfier \", ExtraTreesClassifier()))\n",
    "    algorithms.append((\"Gradient Boosting Classifier\" ,GradientBoostingClassifier()))\n",
    "    algorithms.append((\"Bagging Classifier \", BaggingClassifier()))\n",
    "    algorithms.append((\"Multi-layer Preceptron\", MLPClassifier()))\n",
    "\n",
    "    names = []\n",
    "\n",
    "    train_f1 = []\n",
    "    test_f1 = []\n",
    "\n",
    "    train_recall = []\n",
    "    test_recall = []\n",
    "\n",
    "    train_precision = []\n",
    "    test_precision = []\n",
    "\n",
    "    train_auc = []\n",
    "    test_auc = []\n",
    "\n",
    "    train_acc = []\n",
    "    test_acc = []\n",
    "\n",
    "\n",
    "    for name , clf in algorithms:\n",
    "        clf.fit(x_train,y_train)\n",
    "        train_f1.append(f1_score(y_train,clf.predict(x_train)))\n",
    "        test_f1.append(f1_score(y_test,clf.predict(x_test)))\n",
    "        train_precision.append(precision_score(y_train,clf.predict(x_train)))\n",
    "        test_precision.append(precision_score(y_test,clf.predict(x_test)))\n",
    "        train_recall.append(recall_score(y_train,clf.predict(x_train)))\n",
    "        test_recall.append(recall_score(y_test,clf.predict(x_test)))\n",
    "        names.append(name)\n",
    "        train_auc.append(roc_auc_score(y_train,clf.predict(x_train)))\n",
    "        test_auc.append(roc_auc_score(y_test,clf.predict(x_test)))\n",
    "        train_acc.append(accuracy_score(y_train,clf.predict(x_train)))\n",
    "        test_acc.append(accuracy_score(y_test,clf.predict(x_test)))\n",
    "\n",
    "\n",
    "    clf_comparision = pd.DataFrame({\"Algorithms\": names, \"Train_Precision\" : train_precision,\n",
    "                                  \"Test_Precision\" : test_precision, \"Train_recall\" : train_recall,\n",
    "                                  \"Test_recall\": test_recall,\"Train_F1\" : train_f1,\"Test_F1\": test_f1,\n",
    "                                   \"Train_AUC\": train_auc, \"Test_AUC\": test_auc,\n",
    "                                   \"Train Accuracy\": train_acc, \"Test_Accuracy\":test_acc})\n",
    "    return clf_comparision\n"
   ]
  },
  {
   "cell_type": "markdown",
   "metadata": {},
   "source": [
    "# Base Model"
   ]
  },
  {
   "cell_type": "code",
   "execution_count": 15,
   "metadata": {},
   "outputs": [
    {
     "name": "stderr",
     "output_type": "stream",
     "text": [
      "C:\\Users\\HP\\AppData\\Roaming\\Python\\Python37\\site-packages\\sklearn\\metrics\\_classification.py:1272: UndefinedMetricWarning: Precision is ill-defined and being set to 0.0 due to no predicted samples. Use `zero_division` parameter to control this behavior.\n",
      "  _warn_prf(average, modifier, msg_start, len(result))\n",
      "C:\\Users\\HP\\AppData\\Roaming\\Python\\Python37\\site-packages\\sklearn\\metrics\\_classification.py:1272: UndefinedMetricWarning: Precision is ill-defined and being set to 0.0 due to no predicted samples. Use `zero_division` parameter to control this behavior.\n",
      "  _warn_prf(average, modifier, msg_start, len(result))\n",
      "C:\\Users\\HP\\AppData\\Roaming\\Python\\Python37\\site-packages\\sklearn\\neural_network\\_multilayer_perceptron.py:571: ConvergenceWarning: Stochastic Optimizer: Maximum iterations (200) reached and the optimization hasn't converged yet.\n",
      "  % self.max_iter, ConvergenceWarning)\n"
     ]
    },
    {
     "data": {
      "text/html": [
       "<div>\n",
       "<style scoped>\n",
       "    .dataframe tbody tr th:only-of-type {\n",
       "        vertical-align: middle;\n",
       "    }\n",
       "\n",
       "    .dataframe tbody tr th {\n",
       "        vertical-align: top;\n",
       "    }\n",
       "\n",
       "    .dataframe thead th {\n",
       "        text-align: right;\n",
       "    }\n",
       "</style>\n",
       "<table border=\"1\" class=\"dataframe\">\n",
       "  <thead>\n",
       "    <tr style=\"text-align: right;\">\n",
       "      <th></th>\n",
       "      <th>Algorithms</th>\n",
       "      <th>Train_Precision</th>\n",
       "      <th>Test_Precision</th>\n",
       "      <th>Train_recall</th>\n",
       "      <th>Test_recall</th>\n",
       "      <th>Train_F1</th>\n",
       "      <th>Test_F1</th>\n",
       "      <th>Train_AUC</th>\n",
       "      <th>Test_AUC</th>\n",
       "      <th>Train Accuracy</th>\n",
       "      <th>Test_Accuracy</th>\n",
       "    </tr>\n",
       "  </thead>\n",
       "  <tbody>\n",
       "    <tr>\n",
       "      <th>0</th>\n",
       "      <td>Stochastic Gradient Descent</td>\n",
       "      <td>0.000000</td>\n",
       "      <td>0.000000</td>\n",
       "      <td>0.000000</td>\n",
       "      <td>0.000000</td>\n",
       "      <td>0.000000</td>\n",
       "      <td>0.000000</td>\n",
       "      <td>0.500000</td>\n",
       "      <td>0.500000</td>\n",
       "      <td>0.998217</td>\n",
       "      <td>0.998183</td>\n",
       "    </tr>\n",
       "    <tr>\n",
       "      <th>1</th>\n",
       "      <td>Random Forest</td>\n",
       "      <td>1.000000</td>\n",
       "      <td>0.846154</td>\n",
       "      <td>1.000000</td>\n",
       "      <td>0.709677</td>\n",
       "      <td>1.000000</td>\n",
       "      <td>0.771930</td>\n",
       "      <td>1.000000</td>\n",
       "      <td>0.854721</td>\n",
       "      <td>1.000000</td>\n",
       "      <td>0.999238</td>\n",
       "    </tr>\n",
       "    <tr>\n",
       "      <th>2</th>\n",
       "      <td>Xtreme Gradient Boost</td>\n",
       "      <td>1.000000</td>\n",
       "      <td>0.833333</td>\n",
       "      <td>0.943662</td>\n",
       "      <td>0.806452</td>\n",
       "      <td>0.971014</td>\n",
       "      <td>0.819672</td>\n",
       "      <td>0.971831</td>\n",
       "      <td>0.903079</td>\n",
       "      <td>0.999900</td>\n",
       "      <td>0.999355</td>\n",
       "    </tr>\n",
       "    <tr>\n",
       "      <th>3</th>\n",
       "      <td>Bernoulli Naive Bayes</td>\n",
       "      <td>0.881356</td>\n",
       "      <td>0.814815</td>\n",
       "      <td>0.732394</td>\n",
       "      <td>0.709677</td>\n",
       "      <td>0.800000</td>\n",
       "      <td>0.758621</td>\n",
       "      <td>0.866109</td>\n",
       "      <td>0.854692</td>\n",
       "      <td>0.999347</td>\n",
       "      <td>0.999180</td>\n",
       "    </tr>\n",
       "    <tr>\n",
       "      <th>4</th>\n",
       "      <td>AdaBoost</td>\n",
       "      <td>1.000000</td>\n",
       "      <td>0.880000</td>\n",
       "      <td>0.985915</td>\n",
       "      <td>0.709677</td>\n",
       "      <td>0.992908</td>\n",
       "      <td>0.785714</td>\n",
       "      <td>0.992958</td>\n",
       "      <td>0.854751</td>\n",
       "      <td>0.999975</td>\n",
       "      <td>0.999297</td>\n",
       "    </tr>\n",
       "    <tr>\n",
       "      <th>5</th>\n",
       "      <td>Extra Tress Classfier</td>\n",
       "      <td>1.000000</td>\n",
       "      <td>0.884615</td>\n",
       "      <td>1.000000</td>\n",
       "      <td>0.741935</td>\n",
       "      <td>1.000000</td>\n",
       "      <td>0.807018</td>\n",
       "      <td>1.000000</td>\n",
       "      <td>0.870880</td>\n",
       "      <td>1.000000</td>\n",
       "      <td>0.999355</td>\n",
       "    </tr>\n",
       "    <tr>\n",
       "      <th>6</th>\n",
       "      <td>Gradient Boosting Classifier</td>\n",
       "      <td>1.000000</td>\n",
       "      <td>0.769231</td>\n",
       "      <td>0.845070</td>\n",
       "      <td>0.645161</td>\n",
       "      <td>0.916031</td>\n",
       "      <td>0.701754</td>\n",
       "      <td>0.922535</td>\n",
       "      <td>0.822405</td>\n",
       "      <td>0.999724</td>\n",
       "      <td>0.999004</td>\n",
       "    </tr>\n",
       "    <tr>\n",
       "      <th>7</th>\n",
       "      <td>Bagging Classifier</td>\n",
       "      <td>1.000000</td>\n",
       "      <td>0.793103</td>\n",
       "      <td>0.957746</td>\n",
       "      <td>0.741935</td>\n",
       "      <td>0.978417</td>\n",
       "      <td>0.766667</td>\n",
       "      <td>0.978873</td>\n",
       "      <td>0.870792</td>\n",
       "      <td>0.999925</td>\n",
       "      <td>0.999180</td>\n",
       "    </tr>\n",
       "    <tr>\n",
       "      <th>8</th>\n",
       "      <td>Multi-layer Preceptron</td>\n",
       "      <td>0.463768</td>\n",
       "      <td>0.472727</td>\n",
       "      <td>0.901408</td>\n",
       "      <td>0.838710</td>\n",
       "      <td>0.612440</td>\n",
       "      <td>0.604651</td>\n",
       "      <td>0.949773</td>\n",
       "      <td>0.918504</td>\n",
       "      <td>0.997965</td>\n",
       "      <td>0.998007</td>\n",
       "    </tr>\n",
       "  </tbody>\n",
       "</table>\n",
       "</div>"
      ],
      "text/plain": [
       "                     Algorithms  Train_Precision  Test_Precision  \\\n",
       "0  Stochastic Gradient Descent          0.000000        0.000000   \n",
       "1                Random Forest          1.000000        0.846154   \n",
       "2        Xtreme Gradient Boost          1.000000        0.833333   \n",
       "3        Bernoulli Naive Bayes          0.881356        0.814815   \n",
       "4                     AdaBoost          1.000000        0.880000   \n",
       "5        Extra Tress Classfier          1.000000        0.884615   \n",
       "6  Gradient Boosting Classifier         1.000000        0.769231   \n",
       "7           Bagging Classifier          1.000000        0.793103   \n",
       "8        Multi-layer Preceptron         0.463768        0.472727   \n",
       "\n",
       "   Train_recall  Test_recall  Train_F1   Test_F1  Train_AUC  Test_AUC  \\\n",
       "0      0.000000     0.000000  0.000000  0.000000   0.500000  0.500000   \n",
       "1      1.000000     0.709677  1.000000  0.771930   1.000000  0.854721   \n",
       "2      0.943662     0.806452  0.971014  0.819672   0.971831  0.903079   \n",
       "3      0.732394     0.709677  0.800000  0.758621   0.866109  0.854692   \n",
       "4      0.985915     0.709677  0.992908  0.785714   0.992958  0.854751   \n",
       "5      1.000000     0.741935  1.000000  0.807018   1.000000  0.870880   \n",
       "6      0.845070     0.645161  0.916031  0.701754   0.922535  0.822405   \n",
       "7      0.957746     0.741935  0.978417  0.766667   0.978873  0.870792   \n",
       "8      0.901408     0.838710  0.612440  0.604651   0.949773  0.918504   \n",
       "\n",
       "   Train Accuracy  Test_Accuracy  \n",
       "0        0.998217       0.998183  \n",
       "1        1.000000       0.999238  \n",
       "2        0.999900       0.999355  \n",
       "3        0.999347       0.999180  \n",
       "4        0.999975       0.999297  \n",
       "5        1.000000       0.999355  \n",
       "6        0.999724       0.999004  \n",
       "7        0.999925       0.999180  \n",
       "8        0.997965       0.998007  "
      ]
     },
     "execution_count": 15,
     "metadata": {},
     "output_type": "execute_result"
    }
   ],
   "source": [
    "first_report = Model_comparision_report(x_train,x_test,y_train,y_test)\n",
    "first_report"
   ]
  },
  {
   "cell_type": "markdown",
   "metadata": {},
   "source": [
    "## We set our base model as  XGBClassifier because gave us the best result with following meterics in test data\n",
    "##### F1 score : 0.8196\n",
    "##### Test AUC_ROC : 0.9030\n",
    "##### Test Recall : 0.80642\n",
    "##### Test Precision : 0.8333"
   ]
  },
  {
   "cell_type": "markdown",
   "metadata": {},
   "source": [
    "# Three techniques:\n",
    "## 1. Oversampling\n",
    "#### - Generating more minority samples\n",
    "## 2. Undersampling\n",
    "#### - Reducing Majority class samples to number of minority samples\n",
    "## 3. SMOTE\n",
    "#### - Synthetic data generation"
   ]
  },
  {
   "cell_type": "markdown",
   "metadata": {},
   "source": [
    "# Oversampling\n",
    "### We shouldn't touch the test dataset"
   ]
  },
  {
   "cell_type": "code",
   "execution_count": 16,
   "metadata": {},
   "outputs": [],
   "source": [
    "oversample = pd.concat([x_train,y_train],axis = 1)\n",
    "fraud = oversample.loc[oversample[\"Class\"] == 1]\n",
    "not_fraud = oversample.loc[oversample[\"Class\"] == 0]"
   ]
  },
  {
   "cell_type": "code",
   "execution_count": 17,
   "metadata": {},
   "outputs": [],
   "source": [
    "from sklearn.utils import resample\n",
    "\n",
    "fraud_samples = resample(fraud,n_samples = len(not_fraud),random_state = 27)"
   ]
  },
  {
   "cell_type": "code",
   "execution_count": 18,
   "metadata": {},
   "outputs": [
    {
     "data": {
      "text/plain": [
       "((39740, 31), (39740, 31))"
      ]
     },
     "execution_count": 18,
     "metadata": {},
     "output_type": "execute_result"
    }
   ],
   "source": [
    "fraud_samples.shape,not_fraud.shape"
   ]
  },
  {
   "cell_type": "code",
   "execution_count": 19,
   "metadata": {},
   "outputs": [
    {
     "data": {
      "text/plain": [
       "(79480, 31)"
      ]
     },
     "execution_count": 19,
     "metadata": {},
     "output_type": "execute_result"
    }
   ],
   "source": [
    "new_data = pd.concat([fraud_samples,not_fraud], axis = 0)\n",
    "new_data.shape"
   ]
  },
  {
   "cell_type": "code",
   "execution_count": 20,
   "metadata": {},
   "outputs": [
    {
     "data": {
      "text/plain": [
       "((79480, 30), (79480,))"
      ]
     },
     "execution_count": 20,
     "metadata": {},
     "output_type": "execute_result"
    }
   ],
   "source": [
    "x_train = new_data.iloc[:,:30]\n",
    "y_train = new_data.iloc[:,-1]\n",
    "x_train.shape,y_train.shape"
   ]
  },
  {
   "cell_type": "code",
   "execution_count": 21,
   "metadata": {},
   "outputs": [
    {
     "data": {
      "text/plain": [
       "((17063, 30), (17063,))"
      ]
     },
     "execution_count": 21,
     "metadata": {},
     "output_type": "execute_result"
    }
   ],
   "source": [
    "x_test.shape,y_test.shape"
   ]
  },
  {
   "cell_type": "code",
   "execution_count": 22,
   "metadata": {},
   "outputs": [
    {
     "name": "stderr",
     "output_type": "stream",
     "text": [
      "C:\\Users\\HP\\AppData\\Roaming\\Python\\Python37\\site-packages\\sklearn\\neural_network\\_multilayer_perceptron.py:571: ConvergenceWarning: Stochastic Optimizer: Maximum iterations (200) reached and the optimization hasn't converged yet.\n",
      "  % self.max_iter, ConvergenceWarning)\n"
     ]
    },
    {
     "data": {
      "text/html": [
       "<div>\n",
       "<style scoped>\n",
       "    .dataframe tbody tr th:only-of-type {\n",
       "        vertical-align: middle;\n",
       "    }\n",
       "\n",
       "    .dataframe tbody tr th {\n",
       "        vertical-align: top;\n",
       "    }\n",
       "\n",
       "    .dataframe thead th {\n",
       "        text-align: right;\n",
       "    }\n",
       "</style>\n",
       "<table border=\"1\" class=\"dataframe\">\n",
       "  <thead>\n",
       "    <tr style=\"text-align: right;\">\n",
       "      <th></th>\n",
       "      <th>Algorithms</th>\n",
       "      <th>Train_Precision</th>\n",
       "      <th>Test_Precision</th>\n",
       "      <th>Train_recall</th>\n",
       "      <th>Test_recall</th>\n",
       "      <th>Train_F1</th>\n",
       "      <th>Test_F1</th>\n",
       "      <th>Train_AUC</th>\n",
       "      <th>Test_AUC</th>\n",
       "      <th>Train Accuracy</th>\n",
       "      <th>Test_Accuracy</th>\n",
       "    </tr>\n",
       "  </thead>\n",
       "  <tbody>\n",
       "    <tr>\n",
       "      <th>0</th>\n",
       "      <td>Stochastic Gradient Descent</td>\n",
       "      <td>0.996644</td>\n",
       "      <td>0.343750</td>\n",
       "      <td>0.425893</td>\n",
       "      <td>0.354839</td>\n",
       "      <td>0.596770</td>\n",
       "      <td>0.349206</td>\n",
       "      <td>0.712229</td>\n",
       "      <td>0.676803</td>\n",
       "      <td>0.712229</td>\n",
       "      <td>0.997597</td>\n",
       "    </tr>\n",
       "    <tr>\n",
       "      <th>1</th>\n",
       "      <td>Random Forest</td>\n",
       "      <td>1.000000</td>\n",
       "      <td>0.862069</td>\n",
       "      <td>1.000000</td>\n",
       "      <td>0.806452</td>\n",
       "      <td>1.000000</td>\n",
       "      <td>0.833333</td>\n",
       "      <td>1.000000</td>\n",
       "      <td>0.903108</td>\n",
       "      <td>1.000000</td>\n",
       "      <td>0.999414</td>\n",
       "    </tr>\n",
       "    <tr>\n",
       "      <th>2</th>\n",
       "      <td>Xtreme Gradient Boost</td>\n",
       "      <td>0.999774</td>\n",
       "      <td>0.806452</td>\n",
       "      <td>1.000000</td>\n",
       "      <td>0.806452</td>\n",
       "      <td>0.999887</td>\n",
       "      <td>0.806452</td>\n",
       "      <td>0.999887</td>\n",
       "      <td>0.903050</td>\n",
       "      <td>0.999887</td>\n",
       "      <td>0.999297</td>\n",
       "    </tr>\n",
       "    <tr>\n",
       "      <th>3</th>\n",
       "      <td>Bernoulli Naive Bayes</td>\n",
       "      <td>0.997943</td>\n",
       "      <td>0.426230</td>\n",
       "      <td>0.903196</td>\n",
       "      <td>0.838710</td>\n",
       "      <td>0.948208</td>\n",
       "      <td>0.565217</td>\n",
       "      <td>0.950667</td>\n",
       "      <td>0.918327</td>\n",
       "      <td>0.950667</td>\n",
       "      <td>0.997656</td>\n",
       "    </tr>\n",
       "    <tr>\n",
       "      <th>4</th>\n",
       "      <td>AdaBoost</td>\n",
       "      <td>0.999673</td>\n",
       "      <td>0.634146</td>\n",
       "      <td>1.000000</td>\n",
       "      <td>0.838710</td>\n",
       "      <td>0.999836</td>\n",
       "      <td>0.722222</td>\n",
       "      <td>0.999836</td>\n",
       "      <td>0.918914</td>\n",
       "      <td>0.999836</td>\n",
       "      <td>0.998828</td>\n",
       "    </tr>\n",
       "    <tr>\n",
       "      <th>5</th>\n",
       "      <td>Extra Tress Classfier</td>\n",
       "      <td>1.000000</td>\n",
       "      <td>0.857143</td>\n",
       "      <td>1.000000</td>\n",
       "      <td>0.774194</td>\n",
       "      <td>1.000000</td>\n",
       "      <td>0.813559</td>\n",
       "      <td>1.000000</td>\n",
       "      <td>0.886979</td>\n",
       "      <td>1.000000</td>\n",
       "      <td>0.999355</td>\n",
       "    </tr>\n",
       "    <tr>\n",
       "      <th>6</th>\n",
       "      <td>Gradient Boosting Classifier</td>\n",
       "      <td>0.999849</td>\n",
       "      <td>0.781250</td>\n",
       "      <td>1.000000</td>\n",
       "      <td>0.806452</td>\n",
       "      <td>0.999925</td>\n",
       "      <td>0.793651</td>\n",
       "      <td>0.999925</td>\n",
       "      <td>0.903020</td>\n",
       "      <td>0.999925</td>\n",
       "      <td>0.999238</td>\n",
       "    </tr>\n",
       "    <tr>\n",
       "      <th>7</th>\n",
       "      <td>Bagging Classifier</td>\n",
       "      <td>1.000000</td>\n",
       "      <td>0.766667</td>\n",
       "      <td>1.000000</td>\n",
       "      <td>0.741935</td>\n",
       "      <td>1.000000</td>\n",
       "      <td>0.754098</td>\n",
       "      <td>1.000000</td>\n",
       "      <td>0.870762</td>\n",
       "      <td>1.000000</td>\n",
       "      <td>0.999121</td>\n",
       "    </tr>\n",
       "    <tr>\n",
       "      <th>8</th>\n",
       "      <td>Multi-layer Preceptron</td>\n",
       "      <td>0.997000</td>\n",
       "      <td>0.285714</td>\n",
       "      <td>0.903196</td>\n",
       "      <td>0.838710</td>\n",
       "      <td>0.947783</td>\n",
       "      <td>0.426230</td>\n",
       "      <td>0.950239</td>\n",
       "      <td>0.917447</td>\n",
       "      <td>0.950239</td>\n",
       "      <td>0.995898</td>\n",
       "    </tr>\n",
       "  </tbody>\n",
       "</table>\n",
       "</div>"
      ],
      "text/plain": [
       "                     Algorithms  Train_Precision  Test_Precision  \\\n",
       "0  Stochastic Gradient Descent          0.996644        0.343750   \n",
       "1                Random Forest          1.000000        0.862069   \n",
       "2        Xtreme Gradient Boost          0.999774        0.806452   \n",
       "3        Bernoulli Naive Bayes          0.997943        0.426230   \n",
       "4                     AdaBoost          0.999673        0.634146   \n",
       "5        Extra Tress Classfier          1.000000        0.857143   \n",
       "6  Gradient Boosting Classifier         0.999849        0.781250   \n",
       "7           Bagging Classifier          1.000000        0.766667   \n",
       "8        Multi-layer Preceptron         0.997000        0.285714   \n",
       "\n",
       "   Train_recall  Test_recall  Train_F1   Test_F1  Train_AUC  Test_AUC  \\\n",
       "0      0.425893     0.354839  0.596770  0.349206   0.712229  0.676803   \n",
       "1      1.000000     0.806452  1.000000  0.833333   1.000000  0.903108   \n",
       "2      1.000000     0.806452  0.999887  0.806452   0.999887  0.903050   \n",
       "3      0.903196     0.838710  0.948208  0.565217   0.950667  0.918327   \n",
       "4      1.000000     0.838710  0.999836  0.722222   0.999836  0.918914   \n",
       "5      1.000000     0.774194  1.000000  0.813559   1.000000  0.886979   \n",
       "6      1.000000     0.806452  0.999925  0.793651   0.999925  0.903020   \n",
       "7      1.000000     0.741935  1.000000  0.754098   1.000000  0.870762   \n",
       "8      0.903196     0.838710  0.947783  0.426230   0.950239  0.917447   \n",
       "\n",
       "   Train Accuracy  Test_Accuracy  \n",
       "0        0.712229       0.997597  \n",
       "1        1.000000       0.999414  \n",
       "2        0.999887       0.999297  \n",
       "3        0.950667       0.997656  \n",
       "4        0.999836       0.998828  \n",
       "5        1.000000       0.999355  \n",
       "6        0.999925       0.999238  \n",
       "7        1.000000       0.999121  \n",
       "8        0.950239       0.995898  "
      ]
     },
     "execution_count": 22,
     "metadata": {},
     "output_type": "execute_result"
    }
   ],
   "source": [
    "oversample_report = Model_comparision_report(x_train,x_test,y_train,y_test)\n",
    "oversample_report"
   ]
  },
  {
   "cell_type": "markdown",
   "metadata": {},
   "source": [
    "# Extra Tree Classifier - the second best model"
   ]
  },
  {
   "cell_type": "code",
   "execution_count": 23,
   "metadata": {},
   "outputs": [
    {
     "data": {
      "text/plain": [
       "((79480, 30), (79480,))"
      ]
     },
     "execution_count": 23,
     "metadata": {},
     "output_type": "execute_result"
    }
   ],
   "source": [
    "x_train = new_data.iloc[:,:30]\n",
    "y_train = new_data.iloc[:,-1]\n",
    "x_train.shape,y_train.shape"
   ]
  },
  {
   "cell_type": "code",
   "execution_count": 24,
   "metadata": {},
   "outputs": [
    {
     "data": {
      "image/png": "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\n",
      "text/plain": [
       "<Figure size 432x288 with 1 Axes>"
      ]
     },
     "metadata": {
      "needs_background": "light"
     },
     "output_type": "display_data"
    }
   ],
   "source": [
    "xtree_clf = ExtraTreesClassifier()\n",
    "xtree_clf.fit(x_train,y_train)\n",
    "plot_precision_recall_curve(xtree_clf,x_test,y_test)\n",
    "plt.show()"
   ]
  },
  {
   "cell_type": "code",
   "execution_count": 25,
   "metadata": {},
   "outputs": [],
   "source": [
    "train_prob = xtree_clf.predict_proba(x_test)\n",
    "p,r,t = precision_recall_curve(y_test,train_prob[:,1])"
   ]
  },
  {
   "cell_type": "code",
   "execution_count": 26,
   "metadata": {},
   "outputs": [],
   "source": [
    "prt = pd.DataFrame({'precision':p[:-1],'recall':r[:-1],'threshold':t},columns=['precision','recall','threshold'])"
   ]
  },
  {
   "cell_type": "code",
   "execution_count": 27,
   "metadata": {},
   "outputs": [
    {
     "data": {
      "text/html": [
       "<div>\n",
       "<style scoped>\n",
       "    .dataframe tbody tr th:only-of-type {\n",
       "        vertical-align: middle;\n",
       "    }\n",
       "\n",
       "    .dataframe tbody tr th {\n",
       "        vertical-align: top;\n",
       "    }\n",
       "\n",
       "    .dataframe thead th {\n",
       "        text-align: right;\n",
       "    }\n",
       "</style>\n",
       "<table border=\"1\" class=\"dataframe\">\n",
       "  <thead>\n",
       "    <tr style=\"text-align: right;\">\n",
       "      <th></th>\n",
       "      <th>precision</th>\n",
       "      <th>recall</th>\n",
       "      <th>threshold</th>\n",
       "    </tr>\n",
       "  </thead>\n",
       "  <tbody>\n",
       "    <tr>\n",
       "      <th>14</th>\n",
       "      <td>0.812500</td>\n",
       "      <td>0.838710</td>\n",
       "      <td>0.23</td>\n",
       "    </tr>\n",
       "    <tr>\n",
       "      <th>15</th>\n",
       "      <td>0.838710</td>\n",
       "      <td>0.838710</td>\n",
       "      <td>0.29</td>\n",
       "    </tr>\n",
       "    <tr>\n",
       "      <th>16</th>\n",
       "      <td>0.866667</td>\n",
       "      <td>0.838710</td>\n",
       "      <td>0.42</td>\n",
       "    </tr>\n",
       "    <tr>\n",
       "      <th>17</th>\n",
       "      <td>0.862069</td>\n",
       "      <td>0.806452</td>\n",
       "      <td>0.44</td>\n",
       "    </tr>\n",
       "  </tbody>\n",
       "</table>\n",
       "</div>"
      ],
      "text/plain": [
       "    precision    recall  threshold\n",
       "14   0.812500  0.838710       0.23\n",
       "15   0.838710  0.838710       0.29\n",
       "16   0.866667  0.838710       0.42\n",
       "17   0.862069  0.806452       0.44"
      ]
     },
     "execution_count": 27,
     "metadata": {},
     "output_type": "execute_result"
    }
   ],
   "source": [
    "prt.loc[(prt['recall'] > 0.8) & (prt['precision'] > 0.8)].sort_values(by=['recall'],ascending = False)"
   ]
  },
  {
   "cell_type": "code",
   "execution_count": 28,
   "metadata": {},
   "outputs": [],
   "source": [
    "y_pred_threshold = (train_prob[:,1] >=  0.42)"
   ]
  },
  {
   "cell_type": "code",
   "execution_count": 29,
   "metadata": {},
   "outputs": [
    {
     "data": {
      "text/plain": [
       "0.8666666666666667"
      ]
     },
     "execution_count": 29,
     "metadata": {},
     "output_type": "execute_result"
    }
   ],
   "source": [
    "precision_score(y_test,y_pred_threshold)"
   ]
  },
  {
   "cell_type": "code",
   "execution_count": 30,
   "metadata": {},
   "outputs": [
    {
     "data": {
      "text/plain": [
       "0.8387096774193549"
      ]
     },
     "execution_count": 30,
     "metadata": {},
     "output_type": "execute_result"
    }
   ],
   "source": [
    "recall_score(y_test,y_pred_threshold)"
   ]
  },
  {
   "cell_type": "code",
   "execution_count": 31,
   "metadata": {},
   "outputs": [
    {
     "data": {
      "text/plain": [
       "0.9994725429291449"
      ]
     },
     "execution_count": 31,
     "metadata": {},
     "output_type": "execute_result"
    }
   ],
   "source": [
    "accuracy_score(y_test,y_pred_threshold)"
   ]
  },
  {
   "cell_type": "code",
   "execution_count": 32,
   "metadata": {},
   "outputs": [
    {
     "data": {
      "text/plain": [
       "0.8524590163934426"
      ]
     },
     "execution_count": 32,
     "metadata": {},
     "output_type": "execute_result"
    }
   ],
   "source": [
    "f1_score(y_test,y_pred_threshold)"
   ]
  },
  {
   "cell_type": "code",
   "execution_count": 33,
   "metadata": {},
   "outputs": [
    {
     "data": {
      "text/plain": [
       "array([[17028,     4],\n",
       "       [    5,    26]], dtype=int64)"
      ]
     },
     "execution_count": 33,
     "metadata": {},
     "output_type": "execute_result"
    }
   ],
   "source": [
    "confusion_matrix(y_test,y_pred_threshold)"
   ]
  },
  {
   "cell_type": "markdown",
   "metadata": {},
   "source": [
    "# Extra Tree Classifier has the best results at threshold 0.42 with 0.8524 F1 score\n"
   ]
  },
  {
   "cell_type": "markdown",
   "metadata": {},
   "source": [
    "# Undersampling"
   ]
  },
  {
   "cell_type": "code",
   "execution_count": 34,
   "metadata": {},
   "outputs": [
    {
     "data": {
      "text/plain": [
       "((71, 31), (71, 31), (39740, 31))"
      ]
     },
     "execution_count": 34,
     "metadata": {},
     "output_type": "execute_result"
    }
   ],
   "source": [
    "# replace = False because we reducing the majority class \n",
    "nfraud_samples = resample(not_fraud,replace= False,n_samples = len(fraud),random_state = 27)\n",
    "\n",
    "nfraud_samples.shape,fraud.shape,not_fraud.shape"
   ]
  },
  {
   "cell_type": "code",
   "execution_count": 35,
   "metadata": {},
   "outputs": [
    {
     "data": {
      "text/plain": [
       "((142, 30), (142,))"
      ]
     },
     "execution_count": 35,
     "metadata": {},
     "output_type": "execute_result"
    }
   ],
   "source": [
    "under_data = pd.concat([nfraud_samples,fraud],axis = 0)\n",
    "x_train = under_data.iloc[:,:30]\n",
    "y_train = under_data.iloc[:,30]\n",
    "x_train.shape,y_train.shape"
   ]
  },
  {
   "cell_type": "code",
   "execution_count": 36,
   "metadata": {},
   "outputs": [
    {
     "name": "stderr",
     "output_type": "stream",
     "text": [
      "C:\\Users\\HP\\AppData\\Roaming\\Python\\Python37\\site-packages\\sklearn\\metrics\\_classification.py:1272: UndefinedMetricWarning: Precision is ill-defined and being set to 0.0 due to no predicted samples. Use `zero_division` parameter to control this behavior.\n",
      "  _warn_prf(average, modifier, msg_start, len(result))\n",
      "C:\\Users\\HP\\AppData\\Roaming\\Python\\Python37\\site-packages\\sklearn\\metrics\\_classification.py:1272: UndefinedMetricWarning: Precision is ill-defined and being set to 0.0 due to no predicted samples. Use `zero_division` parameter to control this behavior.\n",
      "  _warn_prf(average, modifier, msg_start, len(result))\n"
     ]
    },
    {
     "data": {
      "text/html": [
       "<div>\n",
       "<style scoped>\n",
       "    .dataframe tbody tr th:only-of-type {\n",
       "        vertical-align: middle;\n",
       "    }\n",
       "\n",
       "    .dataframe tbody tr th {\n",
       "        vertical-align: top;\n",
       "    }\n",
       "\n",
       "    .dataframe thead th {\n",
       "        text-align: right;\n",
       "    }\n",
       "</style>\n",
       "<table border=\"1\" class=\"dataframe\">\n",
       "  <thead>\n",
       "    <tr style=\"text-align: right;\">\n",
       "      <th></th>\n",
       "      <th>Algorithms</th>\n",
       "      <th>Train_Precision</th>\n",
       "      <th>Test_Precision</th>\n",
       "      <th>Train_recall</th>\n",
       "      <th>Test_recall</th>\n",
       "      <th>Train_F1</th>\n",
       "      <th>Test_F1</th>\n",
       "      <th>Train_AUC</th>\n",
       "      <th>Test_AUC</th>\n",
       "      <th>Train Accuracy</th>\n",
       "      <th>Test_Accuracy</th>\n",
       "    </tr>\n",
       "  </thead>\n",
       "  <tbody>\n",
       "    <tr>\n",
       "      <th>0</th>\n",
       "      <td>Stochastic Gradient Descent</td>\n",
       "      <td>0.000000</td>\n",
       "      <td>0.000000</td>\n",
       "      <td>0.000000</td>\n",
       "      <td>0.000000</td>\n",
       "      <td>0.000000</td>\n",
       "      <td>0.000000</td>\n",
       "      <td>0.500000</td>\n",
       "      <td>0.500000</td>\n",
       "      <td>0.500000</td>\n",
       "      <td>0.998183</td>\n",
       "    </tr>\n",
       "    <tr>\n",
       "      <th>1</th>\n",
       "      <td>Random Forest</td>\n",
       "      <td>1.000000</td>\n",
       "      <td>0.072022</td>\n",
       "      <td>1.000000</td>\n",
       "      <td>0.838710</td>\n",
       "      <td>1.000000</td>\n",
       "      <td>0.132653</td>\n",
       "      <td>1.000000</td>\n",
       "      <td>0.909520</td>\n",
       "      <td>1.000000</td>\n",
       "      <td>0.980074</td>\n",
       "    </tr>\n",
       "    <tr>\n",
       "      <th>2</th>\n",
       "      <td>Xtreme Gradient Boost</td>\n",
       "      <td>1.000000</td>\n",
       "      <td>0.039381</td>\n",
       "      <td>1.000000</td>\n",
       "      <td>0.903226</td>\n",
       "      <td>1.000000</td>\n",
       "      <td>0.075472</td>\n",
       "      <td>1.000000</td>\n",
       "      <td>0.931562</td>\n",
       "      <td>1.000000</td>\n",
       "      <td>0.959796</td>\n",
       "    </tr>\n",
       "    <tr>\n",
       "      <th>3</th>\n",
       "      <td>Bernoulli Naive Bayes</td>\n",
       "      <td>0.984615</td>\n",
       "      <td>0.270833</td>\n",
       "      <td>0.901408</td>\n",
       "      <td>0.838710</td>\n",
       "      <td>0.941176</td>\n",
       "      <td>0.409449</td>\n",
       "      <td>0.943662</td>\n",
       "      <td>0.917300</td>\n",
       "      <td>0.943662</td>\n",
       "      <td>0.995605</td>\n",
       "    </tr>\n",
       "    <tr>\n",
       "      <th>4</th>\n",
       "      <td>AdaBoost</td>\n",
       "      <td>1.000000</td>\n",
       "      <td>0.051188</td>\n",
       "      <td>1.000000</td>\n",
       "      <td>0.903226</td>\n",
       "      <td>1.000000</td>\n",
       "      <td>0.096886</td>\n",
       "      <td>1.000000</td>\n",
       "      <td>0.936377</td>\n",
       "      <td>1.000000</td>\n",
       "      <td>0.969407</td>\n",
       "    </tr>\n",
       "    <tr>\n",
       "      <th>5</th>\n",
       "      <td>Extra Tress Classfier</td>\n",
       "      <td>1.000000</td>\n",
       "      <td>0.145161</td>\n",
       "      <td>1.000000</td>\n",
       "      <td>0.870968</td>\n",
       "      <td>1.000000</td>\n",
       "      <td>0.248848</td>\n",
       "      <td>1.000000</td>\n",
       "      <td>0.930816</td>\n",
       "      <td>1.000000</td>\n",
       "      <td>0.990447</td>\n",
       "    </tr>\n",
       "    <tr>\n",
       "      <th>6</th>\n",
       "      <td>Gradient Boosting Classifier</td>\n",
       "      <td>1.000000</td>\n",
       "      <td>0.020000</td>\n",
       "      <td>1.000000</td>\n",
       "      <td>0.903226</td>\n",
       "      <td>1.000000</td>\n",
       "      <td>0.039133</td>\n",
       "      <td>1.000000</td>\n",
       "      <td>0.911336</td>\n",
       "      <td>1.000000</td>\n",
       "      <td>0.919416</td>\n",
       "    </tr>\n",
       "    <tr>\n",
       "      <th>7</th>\n",
       "      <td>Bagging Classifier</td>\n",
       "      <td>1.000000</td>\n",
       "      <td>0.030172</td>\n",
       "      <td>0.971831</td>\n",
       "      <td>0.903226</td>\n",
       "      <td>0.985714</td>\n",
       "      <td>0.058394</td>\n",
       "      <td>0.985915</td>\n",
       "      <td>0.925192</td>\n",
       "      <td>0.985915</td>\n",
       "      <td>0.947078</td>\n",
       "    </tr>\n",
       "    <tr>\n",
       "      <th>8</th>\n",
       "      <td>Multi-layer Preceptron</td>\n",
       "      <td>0.688172</td>\n",
       "      <td>0.002873</td>\n",
       "      <td>0.901408</td>\n",
       "      <td>0.774194</td>\n",
       "      <td>0.780488</td>\n",
       "      <td>0.005725</td>\n",
       "      <td>0.746479</td>\n",
       "      <td>0.642557</td>\n",
       "      <td>0.746479</td>\n",
       "      <td>0.511399</td>\n",
       "    </tr>\n",
       "  </tbody>\n",
       "</table>\n",
       "</div>"
      ],
      "text/plain": [
       "                     Algorithms  Train_Precision  Test_Precision  \\\n",
       "0  Stochastic Gradient Descent          0.000000        0.000000   \n",
       "1                Random Forest          1.000000        0.072022   \n",
       "2        Xtreme Gradient Boost          1.000000        0.039381   \n",
       "3        Bernoulli Naive Bayes          0.984615        0.270833   \n",
       "4                     AdaBoost          1.000000        0.051188   \n",
       "5        Extra Tress Classfier          1.000000        0.145161   \n",
       "6  Gradient Boosting Classifier         1.000000        0.020000   \n",
       "7           Bagging Classifier          1.000000        0.030172   \n",
       "8        Multi-layer Preceptron         0.688172        0.002873   \n",
       "\n",
       "   Train_recall  Test_recall  Train_F1   Test_F1  Train_AUC  Test_AUC  \\\n",
       "0      0.000000     0.000000  0.000000  0.000000   0.500000  0.500000   \n",
       "1      1.000000     0.838710  1.000000  0.132653   1.000000  0.909520   \n",
       "2      1.000000     0.903226  1.000000  0.075472   1.000000  0.931562   \n",
       "3      0.901408     0.838710  0.941176  0.409449   0.943662  0.917300   \n",
       "4      1.000000     0.903226  1.000000  0.096886   1.000000  0.936377   \n",
       "5      1.000000     0.870968  1.000000  0.248848   1.000000  0.930816   \n",
       "6      1.000000     0.903226  1.000000  0.039133   1.000000  0.911336   \n",
       "7      0.971831     0.903226  0.985714  0.058394   0.985915  0.925192   \n",
       "8      0.901408     0.774194  0.780488  0.005725   0.746479  0.642557   \n",
       "\n",
       "   Train Accuracy  Test_Accuracy  \n",
       "0        0.500000       0.998183  \n",
       "1        1.000000       0.980074  \n",
       "2        1.000000       0.959796  \n",
       "3        0.943662       0.995605  \n",
       "4        1.000000       0.969407  \n",
       "5        1.000000       0.990447  \n",
       "6        1.000000       0.919416  \n",
       "7        0.985915       0.947078  \n",
       "8        0.746479       0.511399  "
      ]
     },
     "execution_count": 36,
     "metadata": {},
     "output_type": "execute_result"
    }
   ],
   "source": [
    "undersample_report = Model_comparision_report(x_train,x_test,y_train,y_test)\n",
    "undersample_report"
   ]
  },
  {
   "cell_type": "markdown",
   "metadata": {},
   "source": [
    "# Under-sampling is not doing any benefit as compared to previous models"
   ]
  },
  {
   "cell_type": "markdown",
   "metadata": {},
   "source": [
    "# SMOTE"
   ]
  },
  {
   "cell_type": "code",
   "execution_count": 37,
   "metadata": {},
   "outputs": [
    {
     "name": "stderr",
     "output_type": "stream",
     "text": [
      "Using TensorFlow backend.\n"
     ]
    }
   ],
   "source": [
    "from imblearn.over_sampling import SMOTE"
   ]
  },
  {
   "cell_type": "code",
   "execution_count": 38,
   "metadata": {},
   "outputs": [],
   "source": [
    "x_train,x_test,y_train,y_test = train_test_split(X,Y,test_size= 0.3 , random_state= 42,stratify= Y,shuffle = True)\n",
    "sm = SMOTE(random_state=27,k_neighbors=5)\n",
    "x_train , y_train = sm.fit_sample(x_train,y_train)"
   ]
  },
  {
   "cell_type": "code",
   "execution_count": 39,
   "metadata": {},
   "outputs": [
    {
     "data": {
      "text/plain": [
       "((79480, 30), (79480,))"
      ]
     },
     "execution_count": 39,
     "metadata": {},
     "output_type": "execute_result"
    }
   ],
   "source": [
    "x_train.shape,y_train.shape"
   ]
  },
  {
   "cell_type": "code",
   "execution_count": 40,
   "metadata": {},
   "outputs": [
    {
     "data": {
      "text/plain": [
       "1    39740\n",
       "0    39740\n",
       "Name: Class, dtype: int64"
      ]
     },
     "execution_count": 40,
     "metadata": {},
     "output_type": "execute_result"
    }
   ],
   "source": [
    "y_train.value_counts()"
   ]
  },
  {
   "cell_type": "code",
   "execution_count": 41,
   "metadata": {},
   "outputs": [
    {
     "data": {
      "text/plain": [
       "0    17032\n",
       "1       31\n",
       "Name: Class, dtype: int64"
      ]
     },
     "execution_count": 41,
     "metadata": {},
     "output_type": "execute_result"
    }
   ],
   "source": [
    "y_test.value_counts()"
   ]
  },
  {
   "cell_type": "code",
   "execution_count": 42,
   "metadata": {},
   "outputs": [
    {
     "name": "stderr",
     "output_type": "stream",
     "text": [
      "C:\\Users\\HP\\AppData\\Roaming\\Python\\Python37\\site-packages\\sklearn\\neural_network\\_multilayer_perceptron.py:571: ConvergenceWarning: Stochastic Optimizer: Maximum iterations (200) reached and the optimization hasn't converged yet.\n",
      "  % self.max_iter, ConvergenceWarning)\n"
     ]
    },
    {
     "data": {
      "text/html": [
       "<div>\n",
       "<style scoped>\n",
       "    .dataframe tbody tr th:only-of-type {\n",
       "        vertical-align: middle;\n",
       "    }\n",
       "\n",
       "    .dataframe tbody tr th {\n",
       "        vertical-align: top;\n",
       "    }\n",
       "\n",
       "    .dataframe thead th {\n",
       "        text-align: right;\n",
       "    }\n",
       "</style>\n",
       "<table border=\"1\" class=\"dataframe\">\n",
       "  <thead>\n",
       "    <tr style=\"text-align: right;\">\n",
       "      <th></th>\n",
       "      <th>Algorithms</th>\n",
       "      <th>Train_Precision</th>\n",
       "      <th>Test_Precision</th>\n",
       "      <th>Train_recall</th>\n",
       "      <th>Test_recall</th>\n",
       "      <th>Train_F1</th>\n",
       "      <th>Test_F1</th>\n",
       "      <th>Train_AUC</th>\n",
       "      <th>Test_AUC</th>\n",
       "      <th>Train Accuracy</th>\n",
       "      <th>Test_Accuracy</th>\n",
       "    </tr>\n",
       "  </thead>\n",
       "  <tbody>\n",
       "    <tr>\n",
       "      <th>0</th>\n",
       "      <td>Stochastic Gradient Descent</td>\n",
       "      <td>0.500094</td>\n",
       "      <td>0.001817</td>\n",
       "      <td>1.000000</td>\n",
       "      <td>1.000000</td>\n",
       "      <td>0.666751</td>\n",
       "      <td>0.003628</td>\n",
       "      <td>0.500189</td>\n",
       "      <td>0.500147</td>\n",
       "      <td>0.500189</td>\n",
       "      <td>0.002110</td>\n",
       "    </tr>\n",
       "    <tr>\n",
       "      <th>1</th>\n",
       "      <td>Random Forest</td>\n",
       "      <td>1.000000</td>\n",
       "      <td>0.838710</td>\n",
       "      <td>1.000000</td>\n",
       "      <td>0.838710</td>\n",
       "      <td>1.000000</td>\n",
       "      <td>0.838710</td>\n",
       "      <td>1.000000</td>\n",
       "      <td>0.919208</td>\n",
       "      <td>1.000000</td>\n",
       "      <td>0.999414</td>\n",
       "    </tr>\n",
       "    <tr>\n",
       "      <th>2</th>\n",
       "      <td>Xtreme Gradient Boost</td>\n",
       "      <td>0.999723</td>\n",
       "      <td>0.742857</td>\n",
       "      <td>1.000000</td>\n",
       "      <td>0.838710</td>\n",
       "      <td>0.999862</td>\n",
       "      <td>0.787879</td>\n",
       "      <td>0.999862</td>\n",
       "      <td>0.919091</td>\n",
       "      <td>0.999862</td>\n",
       "      <td>0.999180</td>\n",
       "    </tr>\n",
       "    <tr>\n",
       "      <th>3</th>\n",
       "      <td>Bernoulli Naive Bayes</td>\n",
       "      <td>0.999144</td>\n",
       "      <td>0.604651</td>\n",
       "      <td>0.939708</td>\n",
       "      <td>0.838710</td>\n",
       "      <td>0.968515</td>\n",
       "      <td>0.702703</td>\n",
       "      <td>0.969451</td>\n",
       "      <td>0.918856</td>\n",
       "      <td>0.969451</td>\n",
       "      <td>0.998711</td>\n",
       "    </tr>\n",
       "    <tr>\n",
       "      <th>4</th>\n",
       "      <td>AdaBoost</td>\n",
       "      <td>0.999246</td>\n",
       "      <td>0.565217</td>\n",
       "      <td>0.999899</td>\n",
       "      <td>0.838710</td>\n",
       "      <td>0.999572</td>\n",
       "      <td>0.675325</td>\n",
       "      <td>0.999572</td>\n",
       "      <td>0.918768</td>\n",
       "      <td>0.999572</td>\n",
       "      <td>0.998535</td>\n",
       "    </tr>\n",
       "    <tr>\n",
       "      <th>5</th>\n",
       "      <td>Extra Tress Classfier</td>\n",
       "      <td>1.000000</td>\n",
       "      <td>0.866667</td>\n",
       "      <td>1.000000</td>\n",
       "      <td>0.838710</td>\n",
       "      <td>1.000000</td>\n",
       "      <td>0.852459</td>\n",
       "      <td>1.000000</td>\n",
       "      <td>0.919237</td>\n",
       "      <td>1.000000</td>\n",
       "      <td>0.999473</td>\n",
       "    </tr>\n",
       "    <tr>\n",
       "      <th>6</th>\n",
       "      <td>Gradient Boosting Classifier</td>\n",
       "      <td>0.999799</td>\n",
       "      <td>0.787879</td>\n",
       "      <td>1.000000</td>\n",
       "      <td>0.838710</td>\n",
       "      <td>0.999899</td>\n",
       "      <td>0.812500</td>\n",
       "      <td>0.999899</td>\n",
       "      <td>0.919149</td>\n",
       "      <td>0.999899</td>\n",
       "      <td>0.999297</td>\n",
       "    </tr>\n",
       "    <tr>\n",
       "      <th>7</th>\n",
       "      <td>Bagging Classifier</td>\n",
       "      <td>1.000000</td>\n",
       "      <td>0.638889</td>\n",
       "      <td>1.000000</td>\n",
       "      <td>0.741935</td>\n",
       "      <td>1.000000</td>\n",
       "      <td>0.686567</td>\n",
       "      <td>1.000000</td>\n",
       "      <td>0.870586</td>\n",
       "      <td>1.000000</td>\n",
       "      <td>0.998769</td>\n",
       "    </tr>\n",
       "    <tr>\n",
       "      <th>8</th>\n",
       "      <td>Multi-layer Preceptron</td>\n",
       "      <td>0.991634</td>\n",
       "      <td>0.155172</td>\n",
       "      <td>0.987292</td>\n",
       "      <td>0.870968</td>\n",
       "      <td>0.989459</td>\n",
       "      <td>0.263415</td>\n",
       "      <td>0.989482</td>\n",
       "      <td>0.931168</td>\n",
       "      <td>0.989482</td>\n",
       "      <td>0.991150</td>\n",
       "    </tr>\n",
       "  </tbody>\n",
       "</table>\n",
       "</div>"
      ],
      "text/plain": [
       "                     Algorithms  Train_Precision  Test_Precision  \\\n",
       "0  Stochastic Gradient Descent          0.500094        0.001817   \n",
       "1                Random Forest          1.000000        0.838710   \n",
       "2        Xtreme Gradient Boost          0.999723        0.742857   \n",
       "3        Bernoulli Naive Bayes          0.999144        0.604651   \n",
       "4                     AdaBoost          0.999246        0.565217   \n",
       "5        Extra Tress Classfier          1.000000        0.866667   \n",
       "6  Gradient Boosting Classifier         0.999799        0.787879   \n",
       "7           Bagging Classifier          1.000000        0.638889   \n",
       "8        Multi-layer Preceptron         0.991634        0.155172   \n",
       "\n",
       "   Train_recall  Test_recall  Train_F1   Test_F1  Train_AUC  Test_AUC  \\\n",
       "0      1.000000     1.000000  0.666751  0.003628   0.500189  0.500147   \n",
       "1      1.000000     0.838710  1.000000  0.838710   1.000000  0.919208   \n",
       "2      1.000000     0.838710  0.999862  0.787879   0.999862  0.919091   \n",
       "3      0.939708     0.838710  0.968515  0.702703   0.969451  0.918856   \n",
       "4      0.999899     0.838710  0.999572  0.675325   0.999572  0.918768   \n",
       "5      1.000000     0.838710  1.000000  0.852459   1.000000  0.919237   \n",
       "6      1.000000     0.838710  0.999899  0.812500   0.999899  0.919149   \n",
       "7      1.000000     0.741935  1.000000  0.686567   1.000000  0.870586   \n",
       "8      0.987292     0.870968  0.989459  0.263415   0.989482  0.931168   \n",
       "\n",
       "   Train Accuracy  Test_Accuracy  \n",
       "0        0.500189       0.002110  \n",
       "1        1.000000       0.999414  \n",
       "2        0.999862       0.999180  \n",
       "3        0.969451       0.998711  \n",
       "4        0.999572       0.998535  \n",
       "5        1.000000       0.999473  \n",
       "6        0.999899       0.999297  \n",
       "7        1.000000       0.998769  \n",
       "8        0.989482       0.991150  "
      ]
     },
     "execution_count": 42,
     "metadata": {},
     "output_type": "execute_result"
    }
   ],
   "source": [
    "smote_report = Model_comparision_report(x_train,x_test,y_train,y_test)\n",
    "smote_report"
   ]
  },
  {
   "cell_type": "markdown",
   "metadata": {},
   "source": [
    "## Now Randomforest has given better  gave us the best result when SMOTE is done with folllowing meterics in test data\n",
    "##### F1 score : 0.8387\n",
    "##### Test AUC_ROC : 0.9192\n",
    "##### Test Recall : 0.8387\n",
    "##### Test Precision : 0.8387"
   ]
  },
  {
   "cell_type": "markdown",
   "metadata": {},
   "source": [
    "# Precision recall curve"
   ]
  },
  {
   "cell_type": "code",
   "execution_count": 43,
   "metadata": {},
   "outputs": [
    {
     "data": {
      "image/png": "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\n",
      "text/plain": [
       "<Figure size 432x288 with 1 Axes>"
      ]
     },
     "metadata": {
      "needs_background": "light"
     },
     "output_type": "display_data"
    }
   ],
   "source": [
    "rf_clf = RandomForestClassifier()\n",
    "rf_clf.fit(x_train,y_train)\n",
    "plot_precision_recall_curve(rf_clf,x_test,y_test)\n",
    "plt.show()"
   ]
  },
  {
   "cell_type": "code",
   "execution_count": 44,
   "metadata": {},
   "outputs": [],
   "source": [
    "train_prob = rf_clf.predict_proba(x_test)\n",
    "p,r,t = precision_recall_curve(y_test,train_prob[:,1])"
   ]
  },
  {
   "cell_type": "code",
   "execution_count": 45,
   "metadata": {},
   "outputs": [],
   "source": [
    "prt = pd.DataFrame({'precision':p[:-1],'recall':r[:-1],'threshold':t},columns=['precision','recall','threshold'])"
   ]
  },
  {
   "cell_type": "code",
   "execution_count": 46,
   "metadata": {},
   "outputs": [
    {
     "data": {
      "text/html": [
       "<div>\n",
       "<style scoped>\n",
       "    .dataframe tbody tr th:only-of-type {\n",
       "        vertical-align: middle;\n",
       "    }\n",
       "\n",
       "    .dataframe tbody tr th {\n",
       "        vertical-align: top;\n",
       "    }\n",
       "\n",
       "    .dataframe thead th {\n",
       "        text-align: right;\n",
       "    }\n",
       "</style>\n",
       "<table border=\"1\" class=\"dataframe\">\n",
       "  <thead>\n",
       "    <tr style=\"text-align: right;\">\n",
       "      <th></th>\n",
       "      <th>precision</th>\n",
       "      <th>recall</th>\n",
       "      <th>threshold</th>\n",
       "    </tr>\n",
       "  </thead>\n",
       "  <tbody>\n",
       "    <tr>\n",
       "      <th>22</th>\n",
       "      <td>0.812500</td>\n",
       "      <td>0.838710</td>\n",
       "      <td>0.29</td>\n",
       "    </tr>\n",
       "    <tr>\n",
       "      <th>23</th>\n",
       "      <td>0.838710</td>\n",
       "      <td>0.838710</td>\n",
       "      <td>0.59</td>\n",
       "    </tr>\n",
       "    <tr>\n",
       "      <th>24</th>\n",
       "      <td>0.866667</td>\n",
       "      <td>0.838710</td>\n",
       "      <td>0.67</td>\n",
       "    </tr>\n",
       "    <tr>\n",
       "      <th>25</th>\n",
       "      <td>0.862069</td>\n",
       "      <td>0.806452</td>\n",
       "      <td>0.76</td>\n",
       "    </tr>\n",
       "  </tbody>\n",
       "</table>\n",
       "</div>"
      ],
      "text/plain": [
       "    precision    recall  threshold\n",
       "22   0.812500  0.838710       0.29\n",
       "23   0.838710  0.838710       0.59\n",
       "24   0.866667  0.838710       0.67\n",
       "25   0.862069  0.806452       0.76"
      ]
     },
     "execution_count": 46,
     "metadata": {},
     "output_type": "execute_result"
    }
   ],
   "source": [
    "prt.loc[(prt['recall'] > 0.8) & (prt['precision'] > 0.8)].sort_values(by=['recall'],ascending = False)"
   ]
  },
  {
   "cell_type": "code",
   "execution_count": 47,
   "metadata": {},
   "outputs": [],
   "source": [
    "y_pred_threshold = (train_prob[:,1] >=  0.67)"
   ]
  },
  {
   "cell_type": "code",
   "execution_count": 48,
   "metadata": {},
   "outputs": [
    {
     "data": {
      "text/plain": [
       "0.8666666666666667"
      ]
     },
     "execution_count": 48,
     "metadata": {},
     "output_type": "execute_result"
    }
   ],
   "source": [
    "precision_score(y_test,y_pred_threshold)"
   ]
  },
  {
   "cell_type": "code",
   "execution_count": 49,
   "metadata": {},
   "outputs": [
    {
     "data": {
      "text/plain": [
       "0.8387096774193549"
      ]
     },
     "execution_count": 49,
     "metadata": {},
     "output_type": "execute_result"
    }
   ],
   "source": [
    "recall_score(y_test,y_pred_threshold)"
   ]
  },
  {
   "cell_type": "code",
   "execution_count": 50,
   "metadata": {},
   "outputs": [
    {
     "data": {
      "text/plain": [
       "0.9994725429291449"
      ]
     },
     "execution_count": 50,
     "metadata": {},
     "output_type": "execute_result"
    }
   ],
   "source": [
    "accuracy_score(y_test,y_pred_threshold)"
   ]
  },
  {
   "cell_type": "code",
   "execution_count": 51,
   "metadata": {},
   "outputs": [
    {
     "data": {
      "text/plain": [
       "0.8524590163934426"
      ]
     },
     "execution_count": 51,
     "metadata": {},
     "output_type": "execute_result"
    }
   ],
   "source": [
    "f1_score(y_test,y_pred_threshold)"
   ]
  },
  {
   "cell_type": "code",
   "execution_count": 52,
   "metadata": {},
   "outputs": [
    {
     "data": {
      "text/plain": [
       "array([[17028,     4],\n",
       "       [    5,    26]], dtype=int64)"
      ]
     },
     "execution_count": 52,
     "metadata": {},
     "output_type": "execute_result"
    }
   ],
   "source": [
    "confusion_matrix(y_test,y_pred_threshold)"
   ]
  },
  {
   "cell_type": "markdown",
   "metadata": {},
   "source": [
    "# Extra Tree Classifier"
   ]
  },
  {
   "cell_type": "code",
   "execution_count": 53,
   "metadata": {},
   "outputs": [
    {
     "data": {
      "image/png": "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\n",
      "text/plain": [
       "<Figure size 432x288 with 1 Axes>"
      ]
     },
     "metadata": {
      "needs_background": "light"
     },
     "output_type": "display_data"
    }
   ],
   "source": [
    "xtree_clf = ExtraTreesClassifier()\n",
    "xtree_clf.fit(x_train,y_train)\n",
    "plot_precision_recall_curve(xtree_clf,x_test,y_test)\n",
    "plt.show()"
   ]
  },
  {
   "cell_type": "code",
   "execution_count": 54,
   "metadata": {},
   "outputs": [],
   "source": [
    "train_prob = xtree_clf.predict_proba(x_test)\n",
    "p,r,t = precision_recall_curve(y_test,train_prob[:,1])"
   ]
  },
  {
   "cell_type": "code",
   "execution_count": 55,
   "metadata": {},
   "outputs": [],
   "source": [
    "prt = pd.DataFrame({'precision':p[:-1],'recall':r[:-1],'threshold':t},columns=['precision','recall','threshold'])"
   ]
  },
  {
   "cell_type": "code",
   "execution_count": 56,
   "metadata": {},
   "outputs": [
    {
     "data": {
      "text/html": [
       "<div>\n",
       "<style scoped>\n",
       "    .dataframe tbody tr th:only-of-type {\n",
       "        vertical-align: middle;\n",
       "    }\n",
       "\n",
       "    .dataframe tbody tr th {\n",
       "        vertical-align: top;\n",
       "    }\n",
       "\n",
       "    .dataframe thead th {\n",
       "        text-align: right;\n",
       "    }\n",
       "</style>\n",
       "<table border=\"1\" class=\"dataframe\">\n",
       "  <thead>\n",
       "    <tr style=\"text-align: right;\">\n",
       "      <th></th>\n",
       "      <th>precision</th>\n",
       "      <th>recall</th>\n",
       "      <th>threshold</th>\n",
       "    </tr>\n",
       "  </thead>\n",
       "  <tbody>\n",
       "    <tr>\n",
       "      <th>24</th>\n",
       "      <td>0.812500</td>\n",
       "      <td>0.838710</td>\n",
       "      <td>0.41</td>\n",
       "    </tr>\n",
       "    <tr>\n",
       "      <th>25</th>\n",
       "      <td>0.866667</td>\n",
       "      <td>0.838710</td>\n",
       "      <td>0.61</td>\n",
       "    </tr>\n",
       "    <tr>\n",
       "      <th>26</th>\n",
       "      <td>0.862069</td>\n",
       "      <td>0.806452</td>\n",
       "      <td>0.65</td>\n",
       "    </tr>\n",
       "    <tr>\n",
       "      <th>27</th>\n",
       "      <td>0.892857</td>\n",
       "      <td>0.806452</td>\n",
       "      <td>0.70</td>\n",
       "    </tr>\n",
       "  </tbody>\n",
       "</table>\n",
       "</div>"
      ],
      "text/plain": [
       "    precision    recall  threshold\n",
       "24   0.812500  0.838710       0.41\n",
       "25   0.866667  0.838710       0.61\n",
       "26   0.862069  0.806452       0.65\n",
       "27   0.892857  0.806452       0.70"
      ]
     },
     "execution_count": 56,
     "metadata": {},
     "output_type": "execute_result"
    }
   ],
   "source": [
    "prt.loc[(prt['recall'] > 0.8) & (prt['precision'] > 0.8)].sort_values(by=['recall'],ascending = False)"
   ]
  },
  {
   "cell_type": "code",
   "execution_count": 57,
   "metadata": {},
   "outputs": [],
   "source": [
    "y_pred_threshold = (train_prob[:,1] >=  0.61)"
   ]
  },
  {
   "cell_type": "code",
   "execution_count": 58,
   "metadata": {},
   "outputs": [
    {
     "data": {
      "text/plain": [
       "0.8666666666666667"
      ]
     },
     "execution_count": 58,
     "metadata": {},
     "output_type": "execute_result"
    }
   ],
   "source": [
    "precision_score(y_test,y_pred_threshold)"
   ]
  },
  {
   "cell_type": "code",
   "execution_count": 59,
   "metadata": {},
   "outputs": [
    {
     "data": {
      "text/plain": [
       "0.8387096774193549"
      ]
     },
     "execution_count": 59,
     "metadata": {},
     "output_type": "execute_result"
    }
   ],
   "source": [
    "recall_score(y_test,y_pred_threshold)"
   ]
  },
  {
   "cell_type": "code",
   "execution_count": 60,
   "metadata": {},
   "outputs": [
    {
     "data": {
      "text/plain": [
       "0.9994725429291449"
      ]
     },
     "execution_count": 60,
     "metadata": {},
     "output_type": "execute_result"
    }
   ],
   "source": [
    "accuracy_score(y_test,y_pred_threshold)"
   ]
  },
  {
   "cell_type": "code",
   "execution_count": 61,
   "metadata": {},
   "outputs": [
    {
     "data": {
      "text/plain": [
       "0.8524590163934426"
      ]
     },
     "execution_count": 61,
     "metadata": {},
     "output_type": "execute_result"
    }
   ],
   "source": [
    "f1_score(y_test,y_pred_threshold)"
   ]
  },
  {
   "cell_type": "code",
   "execution_count": 62,
   "metadata": {},
   "outputs": [
    {
     "data": {
      "text/plain": [
       "array([[17028,     4],\n",
       "       [    5,    26]], dtype=int64)"
      ]
     },
     "execution_count": 62,
     "metadata": {},
     "output_type": "execute_result"
    }
   ],
   "source": [
    "confusion_matrix(y_test,y_pred_threshold)"
   ]
  },
  {
   "cell_type": "markdown",
   "metadata": {},
   "source": [
    "# Conclusion\n",
    "\n",
    "##### When we have imbalanced dataset - like this highly skewed then Oversampling and SMOTE really helps our model in terms of F1 score\n",
    "##### We should intially split our dataset and apply sampling techniques only on train set\n",
    "##### We should always test our model in original test dataset which does not have samples created by us\n",
    "##### We have seen that RandomForest Classifier/Extra Trees classifier has the best results among the other powerful classifier\n",
    "##### We see the accuracy is not a good meteric for evaluation for imbalanced dataset\n",
    "##### F1 score and Precision-recall trade off or curve is better perfoamce metric for highly skewed data\n",
    "##### For RandomForest 0.67 is the threshold which gives highest F1 score of 0.8524\n",
    "##### For Extra Trees 0.61 is the threshold which gives highest F1 score of 0.8524\n",
    "##### We can further play around and optimize the RandomForest Classifier/Extra Tree clasifier as both gave same results\n",
    "##### Sometimes Neural Network model does not perform well as compared to other ensemble models\n"
   ]
  },
  {
   "cell_type": "markdown",
   "metadata": {},
   "source": [
    "# Thank you !!"
   ]
  }
 ],
 "metadata": {
  "kernelspec": {
   "display_name": "Python 3",
   "language": "python",
   "name": "python3"
  },
  "language_info": {
   "codemirror_mode": {
    "name": "ipython",
    "version": 3
   },
   "file_extension": ".py",
   "mimetype": "text/x-python",
   "name": "python",
   "nbconvert_exporter": "python",
   "pygments_lexer": "ipython3",
   "version": "3.7.3"
  }
 },
 "nbformat": 4,
 "nbformat_minor": 4
}
